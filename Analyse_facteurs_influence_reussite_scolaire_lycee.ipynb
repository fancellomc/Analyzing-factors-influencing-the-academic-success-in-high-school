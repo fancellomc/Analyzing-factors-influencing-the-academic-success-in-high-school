{
 "cells": [
  {
   "cell_type": "markdown",
   "metadata": {},
   "source": [
    "# Les facteurs d'influence sur la réussite scolaire des élèves au lycée."
   ]
  },
  {
   "cell_type": "markdown",
   "metadata": {},
   "source": [
    "### Introduction"
   ]
  },
  {
   "cell_type": "markdown",
   "metadata": {},
   "source": [
    "L'année 2020 marque un tournant mondial pour l'éducation. Effectivement, la crise du covid-19 contraint les pouvoirs publics à confiner la population française une première fois du 17 mars au 11 mai 2020. Une des mesures prise par le gouvernement est de fermer les écoles. Par conséquent, l'enseignement se fait à distance. Cette situation révèle des inégalités importantes entre les élèves: le cadre de vie diffère d'une situation à une autre. \n",
    "\n",
    "Ce tournant mondial amène un regain d'intérêt sur les facteurs de réussite scolaire des élèves. Afin de mener cette analyse, nous avons cherché une base de données qui donne des indications sur le cadre social et les relations sociales des élèves. Nous avons trouvé une base de données regroupant des élèves de deux lycées portugais ayant choisit la filière mathématique. Cette dernière correspond à notre sujet car elle présente un indicateur de réussite scolaire : celui des notes. Par extention, elle contient des variables qui s'apparentent au cadre social des élèves (le niveau d'étude de leurs parents, etc...) et à leurs relations sociales (leurs sorties, etc...) \n",
    "\n",
    "Ainsi, nous allons nous demander : Dans quelles mesures le cadre social et les relations sociales influencent-ils la réussite scolaire des élèves ?  \n",
    "\n",
    "Dans une première partie, nous mettrons en forme la base de données. Ensuite, nous étudierons les statistiques descriptives. Enfin, dans une troisième partie, nous créerons un modèle linéaire afin de répondre à notre problématique. "
   ]
  },
  {
   "cell_type": "markdown",
   "metadata": {},
   "source": [
    "### PARTIE 1 : Récupération des données "
   ]
  },
  {
   "cell_type": "markdown",
   "metadata": {},
   "source": [
    "#### Première étape"
   ]
  },
  {
   "cell_type": "markdown",
   "metadata": {},
   "source": [
    "On importe la base de données choisie. Cette dernière sera modifiée ultérieurement. Nous l'avons trouvée sur le site : https://www.kaggle.com/. "
   ]
  },
  {
   "cell_type": "code",
   "execution_count": 5,
   "metadata": {},
   "outputs": [
    {
     "name": "stdin",
     "output_type": "stream",
     "text": [
      "Entrer un nom de fichier : student-mat.csv\n"
     ]
    },
    {
     "data": {
      "text/html": [
       "<div>\n",
       "<style scoped>\n",
       "    .dataframe tbody tr th:only-of-type {\n",
       "        vertical-align: middle;\n",
       "    }\n",
       "\n",
       "    .dataframe tbody tr th {\n",
       "        vertical-align: top;\n",
       "    }\n",
       "\n",
       "    .dataframe thead th {\n",
       "        text-align: right;\n",
       "    }\n",
       "</style>\n",
       "<table border=\"1\" class=\"dataframe\">\n",
       "  <thead>\n",
       "    <tr style=\"text-align: right;\">\n",
       "      <th></th>\n",
       "      <th>school</th>\n",
       "      <th>sex</th>\n",
       "      <th>age</th>\n",
       "      <th>address</th>\n",
       "      <th>famsize</th>\n",
       "      <th>Pstatus</th>\n",
       "      <th>Medu</th>\n",
       "      <th>Fedu</th>\n",
       "      <th>Mjob</th>\n",
       "      <th>Fjob</th>\n",
       "      <th>...</th>\n",
       "      <th>famrel</th>\n",
       "      <th>freetime</th>\n",
       "      <th>goout</th>\n",
       "      <th>Dalc</th>\n",
       "      <th>Walc</th>\n",
       "      <th>health</th>\n",
       "      <th>absences</th>\n",
       "      <th>G1</th>\n",
       "      <th>G2</th>\n",
       "      <th>G3</th>\n",
       "    </tr>\n",
       "  </thead>\n",
       "  <tbody>\n",
       "    <tr>\n",
       "      <th>0</th>\n",
       "      <td>GP</td>\n",
       "      <td>F</td>\n",
       "      <td>18</td>\n",
       "      <td>U</td>\n",
       "      <td>GT3</td>\n",
       "      <td>A</td>\n",
       "      <td>4</td>\n",
       "      <td>4</td>\n",
       "      <td>at_home</td>\n",
       "      <td>teacher</td>\n",
       "      <td>...</td>\n",
       "      <td>4</td>\n",
       "      <td>3</td>\n",
       "      <td>4</td>\n",
       "      <td>1</td>\n",
       "      <td>1</td>\n",
       "      <td>3</td>\n",
       "      <td>6</td>\n",
       "      <td>5</td>\n",
       "      <td>6</td>\n",
       "      <td>6</td>\n",
       "    </tr>\n",
       "    <tr>\n",
       "      <th>1</th>\n",
       "      <td>GP</td>\n",
       "      <td>F</td>\n",
       "      <td>17</td>\n",
       "      <td>U</td>\n",
       "      <td>GT3</td>\n",
       "      <td>T</td>\n",
       "      <td>1</td>\n",
       "      <td>1</td>\n",
       "      <td>at_home</td>\n",
       "      <td>other</td>\n",
       "      <td>...</td>\n",
       "      <td>5</td>\n",
       "      <td>3</td>\n",
       "      <td>3</td>\n",
       "      <td>1</td>\n",
       "      <td>1</td>\n",
       "      <td>3</td>\n",
       "      <td>4</td>\n",
       "      <td>5</td>\n",
       "      <td>5</td>\n",
       "      <td>6</td>\n",
       "    </tr>\n",
       "    <tr>\n",
       "      <th>2</th>\n",
       "      <td>GP</td>\n",
       "      <td>F</td>\n",
       "      <td>15</td>\n",
       "      <td>U</td>\n",
       "      <td>LE3</td>\n",
       "      <td>T</td>\n",
       "      <td>1</td>\n",
       "      <td>1</td>\n",
       "      <td>at_home</td>\n",
       "      <td>other</td>\n",
       "      <td>...</td>\n",
       "      <td>4</td>\n",
       "      <td>3</td>\n",
       "      <td>2</td>\n",
       "      <td>2</td>\n",
       "      <td>3</td>\n",
       "      <td>3</td>\n",
       "      <td>10</td>\n",
       "      <td>7</td>\n",
       "      <td>8</td>\n",
       "      <td>10</td>\n",
       "    </tr>\n",
       "    <tr>\n",
       "      <th>3</th>\n",
       "      <td>GP</td>\n",
       "      <td>F</td>\n",
       "      <td>15</td>\n",
       "      <td>U</td>\n",
       "      <td>GT3</td>\n",
       "      <td>T</td>\n",
       "      <td>4</td>\n",
       "      <td>2</td>\n",
       "      <td>health</td>\n",
       "      <td>services</td>\n",
       "      <td>...</td>\n",
       "      <td>3</td>\n",
       "      <td>2</td>\n",
       "      <td>2</td>\n",
       "      <td>1</td>\n",
       "      <td>1</td>\n",
       "      <td>5</td>\n",
       "      <td>2</td>\n",
       "      <td>15</td>\n",
       "      <td>14</td>\n",
       "      <td>15</td>\n",
       "    </tr>\n",
       "    <tr>\n",
       "      <th>4</th>\n",
       "      <td>GP</td>\n",
       "      <td>F</td>\n",
       "      <td>16</td>\n",
       "      <td>U</td>\n",
       "      <td>GT3</td>\n",
       "      <td>T</td>\n",
       "      <td>3</td>\n",
       "      <td>3</td>\n",
       "      <td>other</td>\n",
       "      <td>other</td>\n",
       "      <td>...</td>\n",
       "      <td>4</td>\n",
       "      <td>3</td>\n",
       "      <td>2</td>\n",
       "      <td>1</td>\n",
       "      <td>2</td>\n",
       "      <td>5</td>\n",
       "      <td>4</td>\n",
       "      <td>6</td>\n",
       "      <td>10</td>\n",
       "      <td>10</td>\n",
       "    </tr>\n",
       "  </tbody>\n",
       "</table>\n",
       "<p>5 rows × 33 columns</p>\n",
       "</div>"
      ],
      "text/plain": [
       "  school sex  age address famsize Pstatus  Medu  Fedu     Mjob      Fjob  ...  \\\n",
       "0     GP   F   18       U     GT3       A     4     4  at_home   teacher  ...   \n",
       "1     GP   F   17       U     GT3       T     1     1  at_home     other  ...   \n",
       "2     GP   F   15       U     LE3       T     1     1  at_home     other  ...   \n",
       "3     GP   F   15       U     GT3       T     4     2   health  services  ...   \n",
       "4     GP   F   16       U     GT3       T     3     3    other     other  ...   \n",
       "\n",
       "  famrel freetime  goout  Dalc  Walc health absences  G1  G2  G3  \n",
       "0      4        3      4     1     1      3        6   5   6   6  \n",
       "1      5        3      3     1     1      3        4   5   5   6  \n",
       "2      4        3      2     2     3      3       10   7   8  10  \n",
       "3      3        2      2     1     1      5        2  15  14  15  \n",
       "4      4        3      2     1     2      5        4   6  10  10  \n",
       "\n",
       "[5 rows x 33 columns]"
      ]
     },
     "execution_count": 5,
     "metadata": {},
     "output_type": "execute_result"
    }
   ],
   "source": [
    "import miseenforme as mse\n",
    "df=mse.get_file()\n",
    "df.head(5)"
   ]
  },
  {
   "cell_type": "markdown",
   "metadata": {},
   "source": [
    "La base de données initiale est composée de 395 observations que l'on retrouve en ligne et de 33 variables que l'on retrouve en colonne."
   ]
  },
  {
   "cell_type": "markdown",
   "metadata": {},
   "source": [
    "#### Deuxième étape"
   ]
  },
  {
   "cell_type": "markdown",
   "metadata": {},
   "source": [
    "Nous créons la varibale \"Grade\". Cette dernière est une moyenne des notes des trois derniers semestres. Elle sera un indicateur de réussite scolaire des élèves. "
   ]
  },
  {
   "cell_type": "code",
   "execution_count": 6,
   "metadata": {},
   "outputs": [
    {
     "data": {
      "text/html": [
       "<div>\n",
       "<style scoped>\n",
       "    .dataframe tbody tr th:only-of-type {\n",
       "        vertical-align: middle;\n",
       "    }\n",
       "\n",
       "    .dataframe tbody tr th {\n",
       "        vertical-align: top;\n",
       "    }\n",
       "\n",
       "    .dataframe thead th {\n",
       "        text-align: right;\n",
       "    }\n",
       "</style>\n",
       "<table border=\"1\" class=\"dataframe\">\n",
       "  <thead>\n",
       "    <tr style=\"text-align: right;\">\n",
       "      <th></th>\n",
       "      <th>school</th>\n",
       "      <th>sex</th>\n",
       "      <th>age</th>\n",
       "      <th>address</th>\n",
       "      <th>famsize</th>\n",
       "      <th>Pstatus</th>\n",
       "      <th>Medu</th>\n",
       "      <th>Fedu</th>\n",
       "      <th>Mjob</th>\n",
       "      <th>Fjob</th>\n",
       "      <th>...</th>\n",
       "      <th>goout</th>\n",
       "      <th>Dalc</th>\n",
       "      <th>Walc</th>\n",
       "      <th>health</th>\n",
       "      <th>absences</th>\n",
       "      <th>G1</th>\n",
       "      <th>G2</th>\n",
       "      <th>G3</th>\n",
       "      <th>G</th>\n",
       "      <th>Grade</th>\n",
       "    </tr>\n",
       "  </thead>\n",
       "  <tbody>\n",
       "    <tr>\n",
       "      <th>0</th>\n",
       "      <td>GP</td>\n",
       "      <td>F</td>\n",
       "      <td>18</td>\n",
       "      <td>U</td>\n",
       "      <td>GT3</td>\n",
       "      <td>A</td>\n",
       "      <td>4</td>\n",
       "      <td>4</td>\n",
       "      <td>at_home</td>\n",
       "      <td>teacher</td>\n",
       "      <td>...</td>\n",
       "      <td>4</td>\n",
       "      <td>1</td>\n",
       "      <td>1</td>\n",
       "      <td>3</td>\n",
       "      <td>6</td>\n",
       "      <td>5</td>\n",
       "      <td>6</td>\n",
       "      <td>6</td>\n",
       "      <td>17</td>\n",
       "      <td>5.666667</td>\n",
       "    </tr>\n",
       "    <tr>\n",
       "      <th>1</th>\n",
       "      <td>GP</td>\n",
       "      <td>F</td>\n",
       "      <td>17</td>\n",
       "      <td>U</td>\n",
       "      <td>GT3</td>\n",
       "      <td>T</td>\n",
       "      <td>1</td>\n",
       "      <td>1</td>\n",
       "      <td>at_home</td>\n",
       "      <td>other</td>\n",
       "      <td>...</td>\n",
       "      <td>3</td>\n",
       "      <td>1</td>\n",
       "      <td>1</td>\n",
       "      <td>3</td>\n",
       "      <td>4</td>\n",
       "      <td>5</td>\n",
       "      <td>5</td>\n",
       "      <td>6</td>\n",
       "      <td>16</td>\n",
       "      <td>5.333333</td>\n",
       "    </tr>\n",
       "    <tr>\n",
       "      <th>2</th>\n",
       "      <td>GP</td>\n",
       "      <td>F</td>\n",
       "      <td>15</td>\n",
       "      <td>U</td>\n",
       "      <td>LE3</td>\n",
       "      <td>T</td>\n",
       "      <td>1</td>\n",
       "      <td>1</td>\n",
       "      <td>at_home</td>\n",
       "      <td>other</td>\n",
       "      <td>...</td>\n",
       "      <td>2</td>\n",
       "      <td>2</td>\n",
       "      <td>3</td>\n",
       "      <td>3</td>\n",
       "      <td>10</td>\n",
       "      <td>7</td>\n",
       "      <td>8</td>\n",
       "      <td>10</td>\n",
       "      <td>25</td>\n",
       "      <td>8.333333</td>\n",
       "    </tr>\n",
       "    <tr>\n",
       "      <th>3</th>\n",
       "      <td>GP</td>\n",
       "      <td>F</td>\n",
       "      <td>15</td>\n",
       "      <td>U</td>\n",
       "      <td>GT3</td>\n",
       "      <td>T</td>\n",
       "      <td>4</td>\n",
       "      <td>2</td>\n",
       "      <td>health</td>\n",
       "      <td>services</td>\n",
       "      <td>...</td>\n",
       "      <td>2</td>\n",
       "      <td>1</td>\n",
       "      <td>1</td>\n",
       "      <td>5</td>\n",
       "      <td>2</td>\n",
       "      <td>15</td>\n",
       "      <td>14</td>\n",
       "      <td>15</td>\n",
       "      <td>44</td>\n",
       "      <td>14.666667</td>\n",
       "    </tr>\n",
       "    <tr>\n",
       "      <th>4</th>\n",
       "      <td>GP</td>\n",
       "      <td>F</td>\n",
       "      <td>16</td>\n",
       "      <td>U</td>\n",
       "      <td>GT3</td>\n",
       "      <td>T</td>\n",
       "      <td>3</td>\n",
       "      <td>3</td>\n",
       "      <td>other</td>\n",
       "      <td>other</td>\n",
       "      <td>...</td>\n",
       "      <td>2</td>\n",
       "      <td>1</td>\n",
       "      <td>2</td>\n",
       "      <td>5</td>\n",
       "      <td>4</td>\n",
       "      <td>6</td>\n",
       "      <td>10</td>\n",
       "      <td>10</td>\n",
       "      <td>26</td>\n",
       "      <td>8.666667</td>\n",
       "    </tr>\n",
       "  </tbody>\n",
       "</table>\n",
       "<p>5 rows × 35 columns</p>\n",
       "</div>"
      ],
      "text/plain": [
       "  school sex  age address famsize Pstatus  Medu  Fedu     Mjob      Fjob  ...  \\\n",
       "0     GP   F   18       U     GT3       A     4     4  at_home   teacher  ...   \n",
       "1     GP   F   17       U     GT3       T     1     1  at_home     other  ...   \n",
       "2     GP   F   15       U     LE3       T     1     1  at_home     other  ...   \n",
       "3     GP   F   15       U     GT3       T     4     2   health  services  ...   \n",
       "4     GP   F   16       U     GT3       T     3     3    other     other  ...   \n",
       "\n",
       "  goout Dalc  Walc  health  absences  G1  G2  G3   G      Grade  \n",
       "0     4    1     1       3         6   5   6   6  17   5.666667  \n",
       "1     3    1     1       3         4   5   5   6  16   5.333333  \n",
       "2     2    2     3       3        10   7   8  10  25   8.333333  \n",
       "3     2    1     1       5         2  15  14  15  44  14.666667  \n",
       "4     2    1     2       5         4   6  10  10  26   8.666667  \n",
       "\n",
       "[5 rows x 35 columns]"
      ]
     },
     "execution_count": 6,
     "metadata": {},
     "output_type": "execute_result"
    }
   ],
   "source": [
    "mse.creation_var_note_moyenne(df)\n",
    "df.head(5)"
   ]
  },
  {
   "cell_type": "markdown",
   "metadata": {},
   "source": [
    "Présentons à présent les variables de notre base de données.\n",
    "-\tLa variable « school » correspond à l’école dans laquelle l’élève est scolarisé. \n",
    "-\tLes variables « Mjob » et « Fjob » correspondent aux métiers de la mère et du père de l'élève. \n",
    "-\tLa variable « reason » correspond aux raisons du choix d'une école par rapport à une autre. \n",
    "-\tLa variable « guardian » correspond aux tuteurs des élèves. \n",
    "-\tLa variable « traveltime » correspond aux temps de trajet entre le domicile et l'école.\n",
    "-\tLa variable « schoolsup » correspond aux supports de l’élève pour étudier. \n",
    "-\tLa variable « famsup» correspond aux aides que la famille donne pour les devoirs. \n",
    "-\tLa variable « paid » correspond aux cours particuliers pris par l’élève. \n",
    "-\tLa variable « nursery » correspond aux élèves qui sont allés à l’école maternelle.\n",
    "-\tLa variable « internet » correspond aux élèves ayant accès à internet. \n",
    "-\tLa variable « famrel » correspond à l’entente familiale. \n",
    "-\tLa variable « freetime » correspond aux nombres d'heures de loisir.\n",
    "-\tLa variables« failures» correspond aux années redoublées.\n",
    "-\tLa variable « health» correspond aux problèmes de santé. \n",
    "-\tLes variables « G1 », « G2 », « G3 », « G »  sont les notes obtenues sur les trois trimestre et globalement. \n",
    "-\tLa variable «address » correspond au fait de vivre en zone urbaine ou rurale. \n",
    "-\tLa variable «famsize » correspond d'être enfant unique ou non.\n",
    "-\tLa variable « Pstatus » correspond  au fait que leurs parents habitent ensembles ou non.\n",
    "-\tLa variable «Studytime » correspond au temps passé à étudier par semaine.\n",
    "-\tLes variables « Medu » et « Fedu » sont les niveaux d’étude de leurs parents. \n",
    "-\tLa variable «activities » correspond aux activités extra-scolaires des élèves. \n",
    "-\tLa variable «higher » correspond à la volonté de faire des études supérieures. \n",
    "-\tLa variable «goout » correspond aux niveaux de sortie des élèves. \n",
    "-\tLa variable «Walc » correspond aux niveaux d’alcool consommé le week-end . \n",
    "-\tLa variable «Dalc » correspond aux niveaux d’alcool consommé la semaine. \n",
    "-\tLa variable «absence» correspond au nombre d’absence des élèves. \n",
    "-\tLa variable «romantic » correspond au fait d’avoir une relation amoureuse ou non. \n",
    "-\tLa variable «sex» correspond au sexe de l’élève et « age » à son age. "
   ]
  },
  {
   "cell_type": "markdown",
   "metadata": {},
   "source": [
    "#### Troisième étape "
   ]
  },
  {
   "cell_type": "markdown",
   "metadata": {},
   "source": [
    "On supprime les variables qui ne nous permettent pas de répondre à notre problématique.\n",
    "-\tOn supprime \"school\" car cette base de données regroupe les élèves de seulement deux écoles différentes. \n",
    "-\tOn supprime \"Mjob\" et \"Fjob\" car ces dernières sont des proxies du niveau d'étude des parents. \n",
    "-\tOn supprime \"reason\" car on a supprimé l'école dans laquelle l'élève étudie. \n",
    "-\tOn supprime \"guardian\" car le tuteur ne correspond pas nécessairement à la personne en charge de l'éducation de l'élève. \n",
    "-\tOn supprime \"traveltime\"car le temps de trajet ne peut influencer très fortement la réussite des élèves car il est inférieur à une heure. \n",
    "-\tOn supprime \"schoolsup\", \"famsup\" et \"paid\" car ces variables correspondent à un proxy des années d'étude des parents. Si les parents sont fortement éduqués alors ils accordent davantage d'importance aux études de leurs enfants.  \n",
    "-\tOn supprime \"nursery\" car cette variable ne donne aucune idée concernant le cadre social et relationnel de l'élève. \n",
    "-\tOn supprime \"internet\" car l'ensemble des élèves ont accès à internet. \n",
    "-\tOn supprime \"famrel\" car cette variable est subjective. \n",
    "-\tOn supprime \"freetime\" car c'est un proxy de \"goout\" et \"romantic\".\n",
    "-\tOn supprime \"health\", correspondant aux problèmes de santé, car à leurs âges les problèmes de santé sont rares. \n",
    "-\tOn supprime \"failures\" car presque aucun élève n'a redoublé. \n",
    "-\tOn supprime \"G1\", \"G2\", \"G3\", \"G\" car nous les retrouvons dans la variable \"Grade\" construite précédemment. "
   ]
  },
  {
   "cell_type": "code",
   "execution_count": 7,
   "metadata": {},
   "outputs": [
    {
     "name": "stdout",
     "output_type": "stream",
     "text": [
      "Index(['school', 'sex', 'age', 'address', 'famsize', 'Pstatus', 'Medu', 'Fedu',\n",
      "       'Mjob', 'Fjob', 'reason', 'guardian', 'traveltime', 'studytime',\n",
      "       'failures', 'schoolsup', 'famsup', 'paid', 'activities', 'nursery',\n",
      "       'higher', 'internet', 'romantic', 'famrel', 'freetime', 'goout', 'Dalc',\n",
      "       'Walc', 'health', 'absences', 'G1', 'G2', 'G3', 'G', 'Grade'],\n",
      "      dtype='object')\n",
      "Voici la nouvelle liste de variable de la base de donnees : Index(['sex', 'age', 'address', 'famsize', 'Pstatus', 'Medu', 'Fedu',\n",
      "       'studytime', 'activities', 'higher', 'romantic', 'goout', 'Dalc',\n",
      "       'Walc', 'absences', 'Grade'],\n",
      "      dtype='object')\n"
     ]
    },
    {
     "data": {
      "text/html": [
       "<div>\n",
       "<style scoped>\n",
       "    .dataframe tbody tr th:only-of-type {\n",
       "        vertical-align: middle;\n",
       "    }\n",
       "\n",
       "    .dataframe tbody tr th {\n",
       "        vertical-align: top;\n",
       "    }\n",
       "\n",
       "    .dataframe thead th {\n",
       "        text-align: right;\n",
       "    }\n",
       "</style>\n",
       "<table border=\"1\" class=\"dataframe\">\n",
       "  <thead>\n",
       "    <tr style=\"text-align: right;\">\n",
       "      <th></th>\n",
       "      <th>sex</th>\n",
       "      <th>age</th>\n",
       "      <th>address</th>\n",
       "      <th>famsize</th>\n",
       "      <th>Pstatus</th>\n",
       "      <th>Medu</th>\n",
       "      <th>Fedu</th>\n",
       "      <th>studytime</th>\n",
       "      <th>activities</th>\n",
       "      <th>higher</th>\n",
       "      <th>romantic</th>\n",
       "      <th>goout</th>\n",
       "      <th>Dalc</th>\n",
       "      <th>Walc</th>\n",
       "      <th>absences</th>\n",
       "      <th>Grade</th>\n",
       "    </tr>\n",
       "  </thead>\n",
       "  <tbody>\n",
       "    <tr>\n",
       "      <th>0</th>\n",
       "      <td>F</td>\n",
       "      <td>18</td>\n",
       "      <td>U</td>\n",
       "      <td>GT3</td>\n",
       "      <td>A</td>\n",
       "      <td>4</td>\n",
       "      <td>4</td>\n",
       "      <td>2</td>\n",
       "      <td>no</td>\n",
       "      <td>yes</td>\n",
       "      <td>no</td>\n",
       "      <td>4</td>\n",
       "      <td>1</td>\n",
       "      <td>1</td>\n",
       "      <td>6</td>\n",
       "      <td>5.666667</td>\n",
       "    </tr>\n",
       "    <tr>\n",
       "      <th>1</th>\n",
       "      <td>F</td>\n",
       "      <td>17</td>\n",
       "      <td>U</td>\n",
       "      <td>GT3</td>\n",
       "      <td>T</td>\n",
       "      <td>1</td>\n",
       "      <td>1</td>\n",
       "      <td>2</td>\n",
       "      <td>no</td>\n",
       "      <td>yes</td>\n",
       "      <td>no</td>\n",
       "      <td>3</td>\n",
       "      <td>1</td>\n",
       "      <td>1</td>\n",
       "      <td>4</td>\n",
       "      <td>5.333333</td>\n",
       "    </tr>\n",
       "    <tr>\n",
       "      <th>2</th>\n",
       "      <td>F</td>\n",
       "      <td>15</td>\n",
       "      <td>U</td>\n",
       "      <td>LE3</td>\n",
       "      <td>T</td>\n",
       "      <td>1</td>\n",
       "      <td>1</td>\n",
       "      <td>2</td>\n",
       "      <td>no</td>\n",
       "      <td>yes</td>\n",
       "      <td>no</td>\n",
       "      <td>2</td>\n",
       "      <td>2</td>\n",
       "      <td>3</td>\n",
       "      <td>10</td>\n",
       "      <td>8.333333</td>\n",
       "    </tr>\n",
       "    <tr>\n",
       "      <th>3</th>\n",
       "      <td>F</td>\n",
       "      <td>15</td>\n",
       "      <td>U</td>\n",
       "      <td>GT3</td>\n",
       "      <td>T</td>\n",
       "      <td>4</td>\n",
       "      <td>2</td>\n",
       "      <td>3</td>\n",
       "      <td>yes</td>\n",
       "      <td>yes</td>\n",
       "      <td>yes</td>\n",
       "      <td>2</td>\n",
       "      <td>1</td>\n",
       "      <td>1</td>\n",
       "      <td>2</td>\n",
       "      <td>14.666667</td>\n",
       "    </tr>\n",
       "    <tr>\n",
       "      <th>4</th>\n",
       "      <td>F</td>\n",
       "      <td>16</td>\n",
       "      <td>U</td>\n",
       "      <td>GT3</td>\n",
       "      <td>T</td>\n",
       "      <td>3</td>\n",
       "      <td>3</td>\n",
       "      <td>2</td>\n",
       "      <td>no</td>\n",
       "      <td>yes</td>\n",
       "      <td>no</td>\n",
       "      <td>2</td>\n",
       "      <td>1</td>\n",
       "      <td>2</td>\n",
       "      <td>4</td>\n",
       "      <td>8.666667</td>\n",
       "    </tr>\n",
       "  </tbody>\n",
       "</table>\n",
       "</div>"
      ],
      "text/plain": [
       "  sex  age address famsize Pstatus  Medu  Fedu  studytime activities higher  \\\n",
       "0   F   18       U     GT3       A     4     4          2         no    yes   \n",
       "1   F   17       U     GT3       T     1     1          2         no    yes   \n",
       "2   F   15       U     LE3       T     1     1          2         no    yes   \n",
       "3   F   15       U     GT3       T     4     2          3        yes    yes   \n",
       "4   F   16       U     GT3       T     3     3          2         no    yes   \n",
       "\n",
       "  romantic  goout  Dalc  Walc  absences      Grade  \n",
       "0       no      4     1     1         6   5.666667  \n",
       "1       no      3     1     1         4   5.333333  \n",
       "2       no      2     2     3        10   8.333333  \n",
       "3      yes      2     1     1         2  14.666667  \n",
       "4       no      2     1     2         4   8.666667  "
      ]
     },
     "execution_count": 7,
     "metadata": {},
     "output_type": "execute_result"
    }
   ],
   "source": [
    "mse.del_var(df)\n",
    "df.head(5)"
   ]
  },
  {
   "cell_type": "markdown",
   "metadata": {},
   "source": [
    "#### Quatrième étape"
   ]
  },
  {
   "cell_type": "markdown",
   "metadata": {},
   "source": [
    "On constate que certaines variables qualitatives sont de type caractère. D'autres ont des modalités de réponses en niveaux qui ne sont pas nécessairement intéressantes pour notre analyse. Nous les transformons donc en variables indicatrices."
   ]
  },
  {
   "cell_type": "code",
   "execution_count": 8,
   "metadata": {},
   "outputs": [
    {
     "name": "stdout",
     "output_type": "stream",
     "text": [
      "Les variables a modifier sont : Medu, Fedu, sex, address, famsize, Pstatus, activities, higher, romantic\n"
     ]
    },
    {
     "name": "stdin",
     "output_type": "stream",
     "text": [
      "Entrer un nom de variable qualitative : Medu\n"
     ]
    },
    {
     "name": "stdout",
     "output_type": "stream",
     "text": [
      "La variable Medu vaut 1 lorsque sa valeur était 4 et 0 sinon\n"
     ]
    },
    {
     "name": "stdin",
     "output_type": "stream",
     "text": [
      "Entrer un nom de variable qualitative : Fedu\n"
     ]
    },
    {
     "name": "stdout",
     "output_type": "stream",
     "text": [
      "La variable Fedu vaut 1 lorsque sa valeur était 4 et 0 sinon\n"
     ]
    },
    {
     "name": "stdin",
     "output_type": "stream",
     "text": [
      "Entrer un nom de variable qualitative : sex\n"
     ]
    },
    {
     "name": "stdout",
     "output_type": "stream",
     "text": [
      "La variable sex vaut 1 lorsque l'individu est une femme\n"
     ]
    },
    {
     "name": "stdin",
     "output_type": "stream",
     "text": [
      "Entrer un nom de variable qualitative : address\n"
     ]
    },
    {
     "name": "stdout",
     "output_type": "stream",
     "text": [
      "La variable address vaut 1 lorsque l'individu vit en zone urbaine\n"
     ]
    },
    {
     "name": "stdin",
     "output_type": "stream",
     "text": [
      "Entrer un nom de variable qualitative : famsize\n"
     ]
    },
    {
     "name": "stdout",
     "output_type": "stream",
     "text": [
      "La variable famsize vaut 1 lorsque que l'individu vit avec plus de 3 personnes, lui compris\n"
     ]
    },
    {
     "name": "stdin",
     "output_type": "stream",
     "text": [
      "Entrer un nom de variable qualitative : Pstatus\n"
     ]
    },
    {
     "name": "stdout",
     "output_type": "stream",
     "text": [
      "La variable Pstatus vaut 1 lorsque que l'individu a ses parents qui vivent ensemble\n"
     ]
    },
    {
     "name": "stdin",
     "output_type": "stream",
     "text": [
      "Entrer un nom de variable qualitative : activities\n"
     ]
    },
    {
     "name": "stdout",
     "output_type": "stream",
     "text": [
      "La variable activities vaut 1 lorsque que l'individu pratique une activité\n"
     ]
    },
    {
     "name": "stdin",
     "output_type": "stream",
     "text": [
      "Entrer un nom de variable qualitative : higher\n"
     ]
    },
    {
     "name": "stdout",
     "output_type": "stream",
     "text": [
      "La variable activities vaut 1 lorsque que l'individu a pour ambition de faire des etudes superieurs\n"
     ]
    },
    {
     "name": "stdin",
     "output_type": "stream",
     "text": [
      "Entrer un nom de variable qualitative : romantic\n"
     ]
    },
    {
     "name": "stdout",
     "output_type": "stream",
     "text": [
      "La variable activities vaut 1 lorsque que l'individu est en couple\n"
     ]
    },
    {
     "data": {
      "text/html": [
       "<div>\n",
       "<style scoped>\n",
       "    .dataframe tbody tr th:only-of-type {\n",
       "        vertical-align: middle;\n",
       "    }\n",
       "\n",
       "    .dataframe tbody tr th {\n",
       "        vertical-align: top;\n",
       "    }\n",
       "\n",
       "    .dataframe thead th {\n",
       "        text-align: right;\n",
       "    }\n",
       "</style>\n",
       "<table border=\"1\" class=\"dataframe\">\n",
       "  <thead>\n",
       "    <tr style=\"text-align: right;\">\n",
       "      <th></th>\n",
       "      <th>sex</th>\n",
       "      <th>age</th>\n",
       "      <th>address</th>\n",
       "      <th>famsize</th>\n",
       "      <th>Pstatus</th>\n",
       "      <th>Medu</th>\n",
       "      <th>Fedu</th>\n",
       "      <th>studytime</th>\n",
       "      <th>activities</th>\n",
       "      <th>higher</th>\n",
       "      <th>romantic</th>\n",
       "      <th>goout</th>\n",
       "      <th>Dalc</th>\n",
       "      <th>Walc</th>\n",
       "      <th>absences</th>\n",
       "      <th>Grade</th>\n",
       "    </tr>\n",
       "  </thead>\n",
       "  <tbody>\n",
       "    <tr>\n",
       "      <th>0</th>\n",
       "      <td>1</td>\n",
       "      <td>18</td>\n",
       "      <td>1</td>\n",
       "      <td>1</td>\n",
       "      <td>0</td>\n",
       "      <td>1</td>\n",
       "      <td>1</td>\n",
       "      <td>2</td>\n",
       "      <td>0</td>\n",
       "      <td>1</td>\n",
       "      <td>0</td>\n",
       "      <td>4</td>\n",
       "      <td>1</td>\n",
       "      <td>1</td>\n",
       "      <td>6</td>\n",
       "      <td>5.666667</td>\n",
       "    </tr>\n",
       "    <tr>\n",
       "      <th>1</th>\n",
       "      <td>1</td>\n",
       "      <td>17</td>\n",
       "      <td>1</td>\n",
       "      <td>1</td>\n",
       "      <td>1</td>\n",
       "      <td>0</td>\n",
       "      <td>0</td>\n",
       "      <td>2</td>\n",
       "      <td>0</td>\n",
       "      <td>1</td>\n",
       "      <td>0</td>\n",
       "      <td>3</td>\n",
       "      <td>1</td>\n",
       "      <td>1</td>\n",
       "      <td>4</td>\n",
       "      <td>5.333333</td>\n",
       "    </tr>\n",
       "    <tr>\n",
       "      <th>2</th>\n",
       "      <td>1</td>\n",
       "      <td>15</td>\n",
       "      <td>1</td>\n",
       "      <td>0</td>\n",
       "      <td>1</td>\n",
       "      <td>0</td>\n",
       "      <td>0</td>\n",
       "      <td>2</td>\n",
       "      <td>0</td>\n",
       "      <td>1</td>\n",
       "      <td>0</td>\n",
       "      <td>2</td>\n",
       "      <td>2</td>\n",
       "      <td>3</td>\n",
       "      <td>10</td>\n",
       "      <td>8.333333</td>\n",
       "    </tr>\n",
       "    <tr>\n",
       "      <th>3</th>\n",
       "      <td>1</td>\n",
       "      <td>15</td>\n",
       "      <td>1</td>\n",
       "      <td>1</td>\n",
       "      <td>1</td>\n",
       "      <td>1</td>\n",
       "      <td>0</td>\n",
       "      <td>3</td>\n",
       "      <td>1</td>\n",
       "      <td>1</td>\n",
       "      <td>1</td>\n",
       "      <td>2</td>\n",
       "      <td>1</td>\n",
       "      <td>1</td>\n",
       "      <td>2</td>\n",
       "      <td>14.666667</td>\n",
       "    </tr>\n",
       "    <tr>\n",
       "      <th>4</th>\n",
       "      <td>1</td>\n",
       "      <td>16</td>\n",
       "      <td>1</td>\n",
       "      <td>1</td>\n",
       "      <td>1</td>\n",
       "      <td>0</td>\n",
       "      <td>0</td>\n",
       "      <td>2</td>\n",
       "      <td>0</td>\n",
       "      <td>1</td>\n",
       "      <td>0</td>\n",
       "      <td>2</td>\n",
       "      <td>1</td>\n",
       "      <td>2</td>\n",
       "      <td>4</td>\n",
       "      <td>8.666667</td>\n",
       "    </tr>\n",
       "  </tbody>\n",
       "</table>\n",
       "</div>"
      ],
      "text/plain": [
       "   sex  age  address  famsize  Pstatus  Medu  Fedu  studytime  activities  \\\n",
       "0    1   18        1        1        0     1     1          2           0   \n",
       "1    1   17        1        1        1     0     0          2           0   \n",
       "2    1   15        1        0        1     0     0          2           0   \n",
       "3    1   15        1        1        1     1     0          3           1   \n",
       "4    1   16        1        1        1     0     0          2           0   \n",
       "\n",
       "   higher  romantic  goout  Dalc  Walc  absences      Grade  \n",
       "0       1         0      4     1     1         6   5.666667  \n",
       "1       1         0      3     1     1         4   5.333333  \n",
       "2       1         0      2     2     3        10   8.333333  \n",
       "3       1         1      2     1     1         2  14.666667  \n",
       "4       1         0      2     1     2         4   8.666667  "
      ]
     },
     "execution_count": 8,
     "metadata": {},
     "output_type": "execute_result"
    }
   ],
   "source": [
    "mse.creation_var_indicatrice(df)\n",
    "df.head(5)"
   ]
  },
  {
   "cell_type": "markdown",
   "metadata": {},
   "source": [
    "Pour résumer, nous avons quatre variables continues dans notre analyse. Ce sont \"studytime\", \"Grade\", \"absences\" et \"age\". Ensuite, nous avons des variables catégorielles. Ces dernières sont \"Medu\", \"Fedu\", \"sex\", \"famsize\", \"Pstatus\", \"activities\", \"higher\", \"goout\", \"romantic\", \"address\", \"Dalc\" et \"Walc\". \n",
    "\n",
    "Pour répondre à notre problématique nous allons séparer nos variables en deux catégories. La première étant constituée des variables qui concernent le cadre social de l’élève : \"address\", \"famsize\", \"Pstatus\", \"Medu\", \"Fedu\" et \"absences\". La seconde est constituée des variables qui concernent les relations sociales des élèves : \"studytime\", \"activities\", \"higher\", \"romantic\", \"goout\", \"Dalc\" et \"Walc\". "
   ]
  },
  {
   "cell_type": "markdown",
   "metadata": {},
   "source": [
    "#### TRANSITION"
   ]
  },
  {
   "cell_type": "markdown",
   "metadata": {},
   "source": [
    "Notre de base est obtenue à partir des quatre étapes précédentes. Afin de répondre à notre problématique, nous allons maintenant analyser les statistiques descriptives. "
   ]
  },
  {
   "cell_type": "markdown",
   "metadata": {},
   "source": [
    "### PARTIE 2: Les statisques descriptives"
   ]
  },
  {
   "cell_type": "markdown",
   "metadata": {},
   "source": [
    "#### Première étape"
   ]
  },
  {
   "cell_type": "markdown",
   "metadata": {},
   "source": [
    "La base de données étant modifiée, regardons sa taille, sa dimension et son type.  "
   ]
  },
  {
   "cell_type": "code",
   "execution_count": 9,
   "metadata": {},
   "outputs": [
    {
     "name": "stdout",
     "output_type": "stream",
     "text": [
      "La taille de la base de donnees est : (395, 16)\n",
      "La dimension de la base de donnes est 2\n",
      "Le type de la base de donnees est : <class 'pandas.core.frame.DataFrame'>\n"
     ]
    }
   ],
   "source": [
    "import Stat_desc as stat\n",
    "stat.description_table(df)"
   ]
  },
  {
   "cell_type": "markdown",
   "metadata": {},
   "source": [
    "-\tNotre nouvelle base de données est de taille (395,16) : cela signifie qu'elle contient 395 observations et 16 variables.\n",
    "-\tSa dimension est de 2. \n",
    "-\tLe type de notre base de données est une dataframe. "
   ]
  },
  {
   "cell_type": "markdown",
   "metadata": {},
   "source": [
    "#### Deuxième étape"
   ]
  },
  {
   "cell_type": "markdown",
   "metadata": {},
   "source": [
    "Effectuons l'analyse descriptive des données. "
   ]
  },
  {
   "cell_type": "code",
   "execution_count": 10,
   "metadata": {},
   "outputs": [
    {
     "data": {
      "text/html": [
       "<div>\n",
       "<style scoped>\n",
       "    .dataframe tbody tr th:only-of-type {\n",
       "        vertical-align: middle;\n",
       "    }\n",
       "\n",
       "    .dataframe tbody tr th {\n",
       "        vertical-align: top;\n",
       "    }\n",
       "\n",
       "    .dataframe thead th {\n",
       "        text-align: right;\n",
       "    }\n",
       "</style>\n",
       "<table border=\"1\" class=\"dataframe\">\n",
       "  <thead>\n",
       "    <tr style=\"text-align: right;\">\n",
       "      <th></th>\n",
       "      <th>sex</th>\n",
       "      <th>age</th>\n",
       "      <th>address</th>\n",
       "      <th>famsize</th>\n",
       "      <th>Pstatus</th>\n",
       "      <th>Medu</th>\n",
       "      <th>Fedu</th>\n",
       "      <th>studytime</th>\n",
       "      <th>activities</th>\n",
       "      <th>higher</th>\n",
       "      <th>romantic</th>\n",
       "      <th>goout</th>\n",
       "      <th>Dalc</th>\n",
       "      <th>Walc</th>\n",
       "      <th>absences</th>\n",
       "      <th>Grade</th>\n",
       "    </tr>\n",
       "  </thead>\n",
       "  <tbody>\n",
       "    <tr>\n",
       "      <th>count</th>\n",
       "      <td>395.000000</td>\n",
       "      <td>395.000000</td>\n",
       "      <td>395.000000</td>\n",
       "      <td>395.000000</td>\n",
       "      <td>395.000000</td>\n",
       "      <td>395.000000</td>\n",
       "      <td>395.000000</td>\n",
       "      <td>395.000000</td>\n",
       "      <td>395.000000</td>\n",
       "      <td>395.000000</td>\n",
       "      <td>395.000000</td>\n",
       "      <td>395.000000</td>\n",
       "      <td>395.000000</td>\n",
       "      <td>395.000000</td>\n",
       "      <td>395.000000</td>\n",
       "      <td>395.000000</td>\n",
       "    </tr>\n",
       "    <tr>\n",
       "      <th>mean</th>\n",
       "      <td>0.526582</td>\n",
       "      <td>16.696203</td>\n",
       "      <td>0.777215</td>\n",
       "      <td>0.711392</td>\n",
       "      <td>0.896203</td>\n",
       "      <td>0.331646</td>\n",
       "      <td>0.243038</td>\n",
       "      <td>2.035443</td>\n",
       "      <td>0.508861</td>\n",
       "      <td>0.949367</td>\n",
       "      <td>0.334177</td>\n",
       "      <td>3.108861</td>\n",
       "      <td>1.481013</td>\n",
       "      <td>2.291139</td>\n",
       "      <td>5.708861</td>\n",
       "      <td>10.679325</td>\n",
       "    </tr>\n",
       "    <tr>\n",
       "      <th>std</th>\n",
       "      <td>0.499926</td>\n",
       "      <td>1.276043</td>\n",
       "      <td>0.416643</td>\n",
       "      <td>0.453690</td>\n",
       "      <td>0.305384</td>\n",
       "      <td>0.471401</td>\n",
       "      <td>0.429462</td>\n",
       "      <td>0.839240</td>\n",
       "      <td>0.500555</td>\n",
       "      <td>0.219525</td>\n",
       "      <td>0.472300</td>\n",
       "      <td>1.113278</td>\n",
       "      <td>0.890741</td>\n",
       "      <td>1.287897</td>\n",
       "      <td>8.003096</td>\n",
       "      <td>3.696786</td>\n",
       "    </tr>\n",
       "    <tr>\n",
       "      <th>min</th>\n",
       "      <td>0.000000</td>\n",
       "      <td>15.000000</td>\n",
       "      <td>0.000000</td>\n",
       "      <td>0.000000</td>\n",
       "      <td>0.000000</td>\n",
       "      <td>0.000000</td>\n",
       "      <td>0.000000</td>\n",
       "      <td>1.000000</td>\n",
       "      <td>0.000000</td>\n",
       "      <td>0.000000</td>\n",
       "      <td>0.000000</td>\n",
       "      <td>1.000000</td>\n",
       "      <td>1.000000</td>\n",
       "      <td>1.000000</td>\n",
       "      <td>0.000000</td>\n",
       "      <td>1.333333</td>\n",
       "    </tr>\n",
       "    <tr>\n",
       "      <th>25%</th>\n",
       "      <td>0.000000</td>\n",
       "      <td>16.000000</td>\n",
       "      <td>1.000000</td>\n",
       "      <td>0.000000</td>\n",
       "      <td>1.000000</td>\n",
       "      <td>0.000000</td>\n",
       "      <td>0.000000</td>\n",
       "      <td>1.000000</td>\n",
       "      <td>0.000000</td>\n",
       "      <td>1.000000</td>\n",
       "      <td>0.000000</td>\n",
       "      <td>2.000000</td>\n",
       "      <td>1.000000</td>\n",
       "      <td>1.000000</td>\n",
       "      <td>0.000000</td>\n",
       "      <td>8.333333</td>\n",
       "    </tr>\n",
       "    <tr>\n",
       "      <th>50%</th>\n",
       "      <td>1.000000</td>\n",
       "      <td>17.000000</td>\n",
       "      <td>1.000000</td>\n",
       "      <td>1.000000</td>\n",
       "      <td>1.000000</td>\n",
       "      <td>0.000000</td>\n",
       "      <td>0.000000</td>\n",
       "      <td>2.000000</td>\n",
       "      <td>1.000000</td>\n",
       "      <td>1.000000</td>\n",
       "      <td>0.000000</td>\n",
       "      <td>3.000000</td>\n",
       "      <td>1.000000</td>\n",
       "      <td>2.000000</td>\n",
       "      <td>4.000000</td>\n",
       "      <td>10.666667</td>\n",
       "    </tr>\n",
       "    <tr>\n",
       "      <th>75%</th>\n",
       "      <td>1.000000</td>\n",
       "      <td>18.000000</td>\n",
       "      <td>1.000000</td>\n",
       "      <td>1.000000</td>\n",
       "      <td>1.000000</td>\n",
       "      <td>1.000000</td>\n",
       "      <td>0.000000</td>\n",
       "      <td>2.000000</td>\n",
       "      <td>1.000000</td>\n",
       "      <td>1.000000</td>\n",
       "      <td>1.000000</td>\n",
       "      <td>4.000000</td>\n",
       "      <td>2.000000</td>\n",
       "      <td>3.000000</td>\n",
       "      <td>8.000000</td>\n",
       "      <td>13.333333</td>\n",
       "    </tr>\n",
       "    <tr>\n",
       "      <th>max</th>\n",
       "      <td>1.000000</td>\n",
       "      <td>22.000000</td>\n",
       "      <td>1.000000</td>\n",
       "      <td>1.000000</td>\n",
       "      <td>1.000000</td>\n",
       "      <td>1.000000</td>\n",
       "      <td>1.000000</td>\n",
       "      <td>4.000000</td>\n",
       "      <td>1.000000</td>\n",
       "      <td>1.000000</td>\n",
       "      <td>1.000000</td>\n",
       "      <td>5.000000</td>\n",
       "      <td>5.000000</td>\n",
       "      <td>5.000000</td>\n",
       "      <td>75.000000</td>\n",
       "      <td>19.333333</td>\n",
       "    </tr>\n",
       "  </tbody>\n",
       "</table>\n",
       "</div>"
      ],
      "text/plain": [
       "              sex         age     address     famsize     Pstatus        Medu  \\\n",
       "count  395.000000  395.000000  395.000000  395.000000  395.000000  395.000000   \n",
       "mean     0.526582   16.696203    0.777215    0.711392    0.896203    0.331646   \n",
       "std      0.499926    1.276043    0.416643    0.453690    0.305384    0.471401   \n",
       "min      0.000000   15.000000    0.000000    0.000000    0.000000    0.000000   \n",
       "25%      0.000000   16.000000    1.000000    0.000000    1.000000    0.000000   \n",
       "50%      1.000000   17.000000    1.000000    1.000000    1.000000    0.000000   \n",
       "75%      1.000000   18.000000    1.000000    1.000000    1.000000    1.000000   \n",
       "max      1.000000   22.000000    1.000000    1.000000    1.000000    1.000000   \n",
       "\n",
       "             Fedu   studytime  activities      higher    romantic       goout  \\\n",
       "count  395.000000  395.000000  395.000000  395.000000  395.000000  395.000000   \n",
       "mean     0.243038    2.035443    0.508861    0.949367    0.334177    3.108861   \n",
       "std      0.429462    0.839240    0.500555    0.219525    0.472300    1.113278   \n",
       "min      0.000000    1.000000    0.000000    0.000000    0.000000    1.000000   \n",
       "25%      0.000000    1.000000    0.000000    1.000000    0.000000    2.000000   \n",
       "50%      0.000000    2.000000    1.000000    1.000000    0.000000    3.000000   \n",
       "75%      0.000000    2.000000    1.000000    1.000000    1.000000    4.000000   \n",
       "max      1.000000    4.000000    1.000000    1.000000    1.000000    5.000000   \n",
       "\n",
       "             Dalc        Walc    absences       Grade  \n",
       "count  395.000000  395.000000  395.000000  395.000000  \n",
       "mean     1.481013    2.291139    5.708861   10.679325  \n",
       "std      0.890741    1.287897    8.003096    3.696786  \n",
       "min      1.000000    1.000000    0.000000    1.333333  \n",
       "25%      1.000000    1.000000    0.000000    8.333333  \n",
       "50%      1.000000    2.000000    4.000000   10.666667  \n",
       "75%      2.000000    3.000000    8.000000   13.333333  \n",
       "max      5.000000    5.000000   75.000000   19.333333  "
      ]
     },
     "execution_count": 10,
     "metadata": {},
     "output_type": "execute_result"
    }
   ],
   "source": [
    "stat.description_donnee(df)"
   ]
  },
  {
   "cell_type": "markdown",
   "metadata": {},
   "source": [
    "Nous allons analyser les variables continues et analyserons par la suite les variables catérigorielles grace à des diagrammes. \n",
    "-\t\"Grade\": On observe que la moyenne des notes moyennes des élèves est d'environ 10. La différence entre les moyennes minimale et maximale est grande, l'élève avec la plus petite moyenne a environ 1 sur 20 et celui avec la plus grande moyenne environ 19 sur 20. De plus, 95% des élèves ont entre 7 et 13 de moyenne. Le quantile à 25% est de 8.33, ce qui signifie que 25% des élèves ont une moyenne inférieure à 8.33 sur 20.\n",
    "-\t\"age\" : On observe qu'en moyenne les élèves ont entre 16 et 17 ans. Le plus jeune a 15 ans et le plus vieux a 22 ans. L'écart type nous apprend que 95% des élèves ont entre 15 et 18 ans (en arrondi). \n",
    "-\t\"studytime\" : On observe qu'en moyenne les élèves étudient 2 heures par semaine. Le minimum d'heures passées à étudier est de 1 heure par semaine et le maximum est de 4 heures par semaine.\n",
    "-\t\"absences\": On observe que la moyenne des absences des élèves est d'environ 6. La différence entre le nombre d'absences minimal et maximal est grande. L'élève qui comptabilise le plus d'absence en a 75 alors que d'autres n'ont jamais été absents. "
   ]
  },
  {
   "cell_type": "markdown",
   "metadata": {},
   "source": [
    "#### Troisième étape : Analyse de la distribution des variables continues"
   ]
  },
  {
   "cell_type": "markdown",
   "metadata": {},
   "source": [
    "On peut analyser la distribution seulement pour les variables continues qui sont \"age\", \"Grade\", \"studytime\" et \"absences\". "
   ]
  },
  {
   "cell_type": "markdown",
   "metadata": {},
   "source": [
    "##### Analysons la Skewness et le Kurtosis. "
   ]
  },
  {
   "cell_type": "code",
   "execution_count": 11,
   "metadata": {},
   "outputs": [
    {
     "data": {
      "text/plain": [
       "(sex         -0.106886\n",
       " age          0.466270\n",
       " studytime    0.632142\n",
       " Grade       -0.140547\n",
       " dtype: float64,\n",
       " sex         -1.998721\n",
       " age         -0.001222\n",
       " studytime   -0.014432\n",
       " Grade       -0.332864\n",
       " dtype: float64)"
      ]
     },
     "execution_count": 11,
     "metadata": {},
     "output_type": "execute_result"
    }
   ],
   "source": [
    "stat.skewkurto(df)"
   ]
  },
  {
   "cell_type": "markdown",
   "metadata": {},
   "source": [
    "La Skewness correspond au coefficient d'asymétrie de la distrubition. Cela signifie que plus la Skewness est grande et positive plus la moyenne tire la distribution vers l'axe des ordonnées. A contrario, plus la Skewness est faible et négative plus la moyenne tire la distribution loin de l'axe des ordonnées. Lorsque la Skewness est égale à 0 alors aucune valeur extrême n'influence la moyenne. "
   ]
  },
  {
   "cell_type": "markdown",
   "metadata": {},
   "source": [
    "Le Kurtosis correspond au coefficient d'acuité de la distribution. Cela signifie que plus le Kurtosis est grand plus la distribution est leptokurtic. A contrario, plus le kurtosis est faible plus la distribution est platikurtic. "
   ]
  },
  {
   "cell_type": "markdown",
   "metadata": {},
   "source": [
    "Lorsque la Skewness et le Kurtosis sont forts, cela signifie que des outliers sont présents dans la distribution. \n",
    "-\tLa Skweness et le Kurtosis de \"absences\" sont élevés. Cela signifie que certains élèves comptabilisent davantage d'absences. Ce qui influence la moyenne et le coefficient d'acuité de la distribution. \n",
    "-\tLes trois autres variables continues (\"Grade\",\"age\",\"studytime\") semblent ne présenter aucun outliers. "
   ]
  },
  {
   "cell_type": "markdown",
   "metadata": {},
   "source": [
    "##### Analysons les boxplots."
   ]
  },
  {
   "cell_type": "code",
   "execution_count": 13,
   "metadata": {},
   "outputs": [
    {
     "data": {
      "text/plain": [
       "<matplotlib.axes._subplots.AxesSubplot at 0x279b4e3a2e0>"
      ]
     },
     "execution_count": 13,
     "metadata": {},
     "output_type": "execute_result"
    },
    {
     "data": {
      "image/png": "[encoded data removed]",
      "text/plain": [
       "<Figure size 432x288 with 1 Axes>"
      ]
     },
     "metadata": {
      "needs_background": "light"
     },
     "output_type": "display_data"
    }
   ],
   "source": [
    "df.boxplot(column=['age','studytime','Grade','absences'],showmeans=True)"
   ]
  },
  {
   "cell_type": "markdown",
   "metadata": {},
   "source": [
    "Comme nous l'avons spécifié précédemment \"absences\" contient des outliers. Ce qui empêche l'analyse des autres boxplots. Ainsi, la variable \"absences\" pourrait biaiser notre analyse. "
   ]
  },
  {
   "cell_type": "markdown",
   "metadata": {},
   "source": [
    "##### Analysons les boxplots sans abscences. "
   ]
  },
  {
   "cell_type": "code",
   "execution_count": 10,
   "metadata": {},
   "outputs": [
    {
     "data": {
      "text/plain": [
       "<matplotlib.axes._subplots.AxesSubplot at 0xaaa2e50>"
      ]
     },
     "execution_count": 10,
     "metadata": {},
     "output_type": "execute_result"
    },
    {
     "data": {
      "image/png": "[encoded data removed]",
      "text/plain": [
       "<Figure size 432x288 with 1 Axes>"
      ]
     },
     "metadata": {
      "needs_background": "light"
     },
     "output_type": "display_data"
    }
   ],
   "source": [
    "df.boxplot(column=['age','studytime','Grade'],showmeans=True)"
   ]
  },
  {
   "cell_type": "markdown",
   "metadata": {},
   "source": [
    "Les élèves ont bien un age compris entre 15 et 22 ans. Il  est important de constater qu'il y a davantage d'élèves plus jeunes. Par extension, si l'on observe le deuxième boxplot, on constate que le temps passé à étudier des élèves est faible. \n",
    "En ce qui concerne \"Grade\", on constate que la distribution est plutôt bonne, la moyenne correspond parfaitement à la médiane. "
   ]
  },
  {
   "cell_type": "markdown",
   "metadata": {},
   "source": [
    "##### Analysons les féquences des observations des variables continues."
   ]
  },
  {
   "cell_type": "code",
   "execution_count": 13,
   "metadata": {},
   "outputs": [
    {
     "name": "stdin",
     "output_type": "stream",
     "text": [
      "Entrer une variable continue :  age\n"
     ]
    },
    {
     "data": {
      "image/png": "[encoded data removed]",
      "text/plain": [
       "<Figure size 432x288 with 1 Axes>"
      ]
     },
     "metadata": {
      "needs_background": "light"
     },
     "output_type": "display_data"
    },
    {
     "name": "stdin",
     "output_type": "stream",
     "text": [
      "Entrer une variable continue :  studytime\n"
     ]
    },
    {
     "data": {
      "image/png": "[encoded data removed]",
      "text/plain": [
       "<Figure size 432x288 with 1 Axes>"
      ]
     },
     "metadata": {
      "needs_background": "light"
     },
     "output_type": "display_data"
    },
    {
     "name": "stdin",
     "output_type": "stream",
     "text": [
      "Entrer une variable continue :  Grade\n"
     ]
    },
    {
     "data": {
      "image/png": "[encoded data removed]",
      "text/plain": [
       "<Figure size 432x288 with 1 Axes>"
      ]
     },
     "metadata": {
      "needs_background": "light"
     },
     "output_type": "display_data"
    },
    {
     "name": "stdin",
     "output_type": "stream",
     "text": [
      "Entrer une variable continue :  absences\n"
     ]
    },
    {
     "data": {
      "image/png": "[encoded data removed]",
      "text/plain": [
       "<Figure size 432x288 with 1 Axes>"
      ]
     },
     "metadata": {
      "needs_background": "light"
     },
     "output_type": "display_data"
    }
   ],
   "source": [
    "import Graphique as graph \n",
    "graph.hist_continues(df)"
   ]
  },
  {
   "cell_type": "markdown",
   "metadata": {},
   "source": [
    "On constate que la majorité des élèves a moins de 17 ans, ce qui est un age attendu pour des élèves de lycée. L'élève qui a 22 ans se remarque également sur l'histogramme. \n",
    "Ensuite, on observe 100 élèves qui travaillent 1 heure par semaine et 75 qui travaillent 3 heures par semaine. \n",
    "Il y 70 élèves qui ont entre 10 et 12 de moyenne. \"Grade\" est donc plutôt bien distribuée. Ce qui confirme notre analyse précédente de la Skewness et du Kurtosis. \n",
    "L'histogramme de \"absences\" donne également des indicateurs sur les outliers qui ont 40, 50, 60 et 70 heures d'absences.  "
   ]
  },
  {
   "cell_type": "markdown",
   "metadata": {},
   "source": [
    "### Quatrième partie : Analyse des variables qualitatives "
   ]
  },
  {
   "cell_type": "markdown",
   "metadata": {},
   "source": [
    "##### Analysons graphiquement la distribution des variables qualitatives qui sont : \"Medu\", \"Fedu\", \"sex\", \"famsize\", \"Pstatus\", \"activities\", \"higher\", \"goout\", \"romantic\", \"address\", \"Dalc\" et \"Walc\". "
   ]
  },
  {
   "cell_type": "code",
   "execution_count": 14,
   "metadata": {},
   "outputs": [
    {
     "name": "stdin",
     "output_type": "stream",
     "text": [
      "Entrer une variable qualitative :  sex\n"
     ]
    },
    {
     "data": {
      "image/png": "[encoded data removed]",
      "text/plain": [
       "<Figure size 432x288 with 1 Axes>"
      ]
     },
     "metadata": {
      "needs_background": "light"
     },
     "output_type": "display_data"
    },
    {
     "name": "stdin",
     "output_type": "stream",
     "text": [
      "Entrer une variable qualitative :  address\n"
     ]
    },
    {
     "data": {
      "image/png": "[encoded data removed]",
      "text/plain": [
       "<Figure size 432x288 with 1 Axes>"
      ]
     },
     "metadata": {
      "needs_background": "light"
     },
     "output_type": "display_data"
    },
    {
     "name": "stdin",
     "output_type": "stream",
     "text": [
      "Entrer une variable qualitative :  famsize\n"
     ]
    },
    {
     "data": {
      "image/png": "[encoded data removed]",
      "text/plain": [
       "<Figure size 432x288 with 1 Axes>"
      ]
     },
     "metadata": {
      "needs_background": "light"
     },
     "output_type": "display_data"
    },
    {
     "name": "stdin",
     "output_type": "stream",
     "text": [
      "Entrer une variable qualitative :  Pstatus\n"
     ]
    },
    {
     "data": {
      "image/png": "[encoded data removed]",
      "text/plain": [
       "<Figure size 432x288 with 1 Axes>"
      ]
     },
     "metadata": {
      "needs_background": "light"
     },
     "output_type": "display_data"
    },
    {
     "name": "stdin",
     "output_type": "stream",
     "text": [
      "Entrer une variable qualitative :  Medu\n"
     ]
    },
    {
     "data": {
      "image/png": "[encoded data removed]",
      "text/plain": [
       "<Figure size 432x288 with 1 Axes>"
      ]
     },
     "metadata": {
      "needs_background": "light"
     },
     "output_type": "display_data"
    },
    {
     "name": "stdin",
     "output_type": "stream",
     "text": [
      "Entrer une variable qualitative :  Fedu\n"
     ]
    },
    {
     "data": {
      "image/png": "[encoded data removed]",
      "text/plain": [
       "<Figure size 432x288 with 1 Axes>"
      ]
     },
     "metadata": {
      "needs_background": "light"
     },
     "output_type": "display_data"
    },
    {
     "name": "stdin",
     "output_type": "stream",
     "text": [
      "Entrer une variable qualitative :  activities\n"
     ]
    },
    {
     "data": {
      "image/png": "[encoded data removed]",
      "text/plain": [
       "<Figure size 432x288 with 1 Axes>"
      ]
     },
     "metadata": {
      "needs_background": "light"
     },
     "output_type": "display_data"
    },
    {
     "name": "stdin",
     "output_type": "stream",
     "text": [
      "Entrer une variable qualitative :  higher\n"
     ]
    },
    {
     "data": {
      "image/png": "[encoded data removed]",
      "text/plain": [
       "<Figure size 432x288 with 1 Axes>"
      ]
     },
     "metadata": {
      "needs_background": "light"
     },
     "output_type": "display_data"
    },
    {
     "name": "stdin",
     "output_type": "stream",
     "text": [
      "Entrer une variable qualitative :  romantic\n"
     ]
    },
    {
     "data": {
      "image/png": "[encoded data removed]",
      "text/plain": [
       "<Figure size 432x288 with 1 Axes>"
      ]
     },
     "metadata": {
      "needs_background": "light"
     },
     "output_type": "display_data"
    },
    {
     "name": "stdin",
     "output_type": "stream",
     "text": [
      "Entrer une variable qualitative :  goout\n"
     ]
    },
    {
     "data": {
      "image/png": "[encoded data removed]",
      "text/plain": [
       "<Figure size 432x288 with 1 Axes>"
      ]
     },
     "metadata": {
      "needs_background": "light"
     },
     "output_type": "display_data"
    },
    {
     "name": "stdin",
     "output_type": "stream",
     "text": [
      "Entrer une variable qualitative :  Dalc\n"
     ]
    },
    {
     "data": {
      "image/png": "[encoded data removed]",
      "text/plain": [
       "<Figure size 432x288 with 1 Axes>"
      ]
     },
     "metadata": {
      "needs_background": "light"
     },
     "output_type": "display_data"
    },
    {
     "name": "stdin",
     "output_type": "stream",
     "text": [
      "Entrer une variable qualitative :  Walc\n"
     ]
    },
    {
     "data": {
      "image/png": "[encoded data removed]",
      "text/plain": [
       "<Figure size 432x288 with 1 Axes>"
      ]
     },
     "metadata": {
      "needs_background": "light"
     },
     "output_type": "display_data"
    }
   ],
   "source": [
    "graph.diag_qualitatives(df)"
   ]
  },
  {
   "cell_type": "markdown",
   "metadata": {},
   "source": [
    "Notre base de données est majoritairement composée de femmes. Cependant, l'écart entre le nombre de femmes et le nombre d'hommes reste faible. Les élèves habitent majoritairement en zone urbaine. De plus, on constate qu'un tiers des enfants sont des enfants uniques et les deux tiers restant ont des frères et soeurs. La plupart ont des situations familiales avec des parents qui vivent ensembles. On constate qu'un tiers des mères (environ 140) et 100 pères ont fait des études supérieures. Ce qui est tout de même surprenant. Environ 50% des élèves pratiquent une activité extra-scolaire. Globalement, ils aimeraient tous faire des études supérieures. Ce qui traduit certainement une volonté d'assention sociale mais également un changement de structure du marché du travail. Egalement, un tiers des élèves ont une relation amoureuse. \n",
    "\n",
    "Les élèves sortent moyennement. Ils consomment très peu voire pas du tout d'alcool en semaine. En ce qui concerne la consommation d'alcool le week-end, la plupart de élèves ont une consommation de moyenne à élevée. Ces dernières constatations sont à prendre avec des pincettes car nous n'avons pas de précisions sur ce à quoi correspondent les niveaux de la base de données. "
   ]
  },
  {
   "cell_type": "markdown",
   "metadata": {},
   "source": [
    "#### Cinquième partie : Les corrélations "
   ]
  },
  {
   "cell_type": "code",
   "execution_count": 15,
   "metadata": {},
   "outputs": [
    {
     "data": {
      "image/png": "[encoded data removed]",
      "text/plain": [
       "<Figure size 864x648 with 2 Axes>"
      ]
     },
     "metadata": {
      "needs_background": "light"
     },
     "output_type": "display_data"
    },
    {
     "data": {
      "image/png": "[encoded data removed]",
      "text/plain": [
       "<Figure size 864x648 with 2 Axes>"
      ]
     },
     "metadata": {
      "needs_background": "light"
     },
     "output_type": "display_data"
    }
   ],
   "source": [
    "graph.correlations(df)"
   ]
  },
  {
   "cell_type": "markdown",
   "metadata": {},
   "source": [
    "L'analyse du graphique de corrélation se fait de la manière suivante : \n",
    "-\tLa diagonale des graphiques est claire car la corrélation d'une variable avec elle-même est de 1 . \n",
    "-\tPlus il y a une corrélation entre deux variables plus la couleur est claire. \n",
    "-\tA contrario, plus la couleur est foncée moins il y a de corrélation entre deux variables. \n",
    "-\tSi la corrélation est positive alors la relation entre les deux variables est positive. \n",
    "-\tA l’inverse si la corrélation est négative alors la relation entre les deux variables est négative.  \n",
    "\n",
    "Concernant le premier graphique de corrélation, \"Grade\" est corrélée positivement avec « address ». Cela signifie que les notes sont influencées positivement si l’élève vit en zone urbaine. Les variables qui influencent le plus les notes sont « Fedu » et « Medu » qui correspondent au fait que les parents aient fait des études supérieures ou non. Ainsi, si les parents ont fait des études supérieures les notes de l’élève seront généralement plus élevées. On pouvait s’attendre à ce résultat, en effet, quand les parents ont reçu un enseignement supérieur, ils pousseront plus naturellement leurs enfants à faire des études supérieures. On constate par ailleurs que c’est d’autant plus vrai du côté de la mère car généralement la mère joue un rôle prépondérant dans l’éducation des enfants. Enfin, « absences », « famsize » et « Pstatus » ne semblent pas avoir d’influence sur les notes moyennes. \n",
    "\n",
    "Concernant le second graphique regroupant les variables relatives aux relations sociales des élèves, le coefficient de corrélation entre « Grade » et « romantic » est de -0.1. Cela signifie que les lycéens en couple ont généralement de moins bonnes notes que les lycéens célibataires. On constate également que la variable « goout » est celle ayant la corrélation avec les notes la plus élevée et négative. Ce qui est un résultat attendu étant donné le fait que le temps de sortie est pris sur le temps d’étude. On observe que « activities » a très peu d’influence sur les notes. Cependant, il faut noter qu’environ 50% des élèves n’ont pas d’activités extra-scolaires, on ne peut pas analyser cette corrélation. Le coefficient du corrélation entre « studytime » et « Grade » est de 0.1. On aurait pu penser que cette variable aurait davantage d’impact mais la différence d’heures étudiées entre ceux qui travaillent le plus et ceux qui travaillent le moins n’étant que de trois heures, ce faible coefficient n’est pas étonnant. Finalement, la variable \"higher\" influence positivement les notes. Cependant, il est difficile de conclure car on ne sait pas quel type et quel niveau d’études supérieures les élèves veulent faire. "
   ]
  },
  {
   "cell_type": "markdown",
   "metadata": {},
   "source": [
    "#### TRANSITION "
   ]
  },
  {
   "cell_type": "markdown",
   "metadata": {},
   "source": [
    "Nous avons analysé nos variables et donné une première réponse à notre problématique. Afin de continuer d'apporter un précision plus globale, nous allons créer un modèle. "
   ]
  },
  {
   "cell_type": "markdown",
   "metadata": {},
   "source": [
    "### PARTIE 3 : Le modèle "
   ]
  },
  {
   "cell_type": "code",
   "execution_count": 14,
   "metadata": {},
   "outputs": [
    {
     "name": "stdin",
     "output_type": "stream",
     "text": [
      "Veuillez entrer la variable expliquee :  Grade\n"
     ]
    },
    {
     "data": {
      "text/html": [
       "<table class=\"simpletable\">\n",
       "<caption>OLS Regression Results</caption>\n",
       "<tr>\n",
       "  <th>Dep. Variable:</th>          <td>Grade</td>      <th>  R-squared:         </th> <td>   0.165</td>\n",
       "</tr>\n",
       "<tr>\n",
       "  <th>Model:</th>                   <td>OLS</td>       <th>  Adj. R-squared:    </th> <td>   0.132</td>\n",
       "</tr>\n",
       "<tr>\n",
       "  <th>Method:</th>             <td>Least Squares</td>  <th>  F-statistic:       </th> <td>   5.002</td>\n",
       "</tr>\n",
       "<tr>\n",
       "  <th>Date:</th>             <td>Sat, 21 Nov 2020</td> <th>  Prob (F-statistic):</th> <td>5.24e-09</td>\n",
       "</tr>\n",
       "<tr>\n",
       "  <th>Time:</th>                 <td>18:20:26</td>     <th>  Log-Likelihood:    </th> <td> -1040.8</td>\n",
       "</tr>\n",
       "<tr>\n",
       "  <th>No. Observations:</th>      <td>   395</td>      <th>  AIC:               </th> <td>   2114.</td>\n",
       "</tr>\n",
       "<tr>\n",
       "  <th>Df Residuals:</th>          <td>   379</td>      <th>  BIC:               </th> <td>   2177.</td>\n",
       "</tr>\n",
       "<tr>\n",
       "  <th>Df Model:</th>              <td>    15</td>      <th>                     </th>     <td> </td>   \n",
       "</tr>\n",
       "<tr>\n",
       "  <th>Covariance Type:</th>      <td>nonrobust</td>    <th>                     </th>     <td> </td>   \n",
       "</tr>\n",
       "</table>\n",
       "<table class=\"simpletable\">\n",
       "<tr>\n",
       "       <td></td>         <th>coef</th>     <th>std err</th>      <th>t</th>      <th>P>|t|</th>  <th>[0.025</th>    <th>0.975]</th>  \n",
       "</tr>\n",
       "<tr>\n",
       "  <th>const</th>      <td>   10.6416</td> <td>    2.819</td> <td>    3.775</td> <td> 0.000</td> <td>    5.099</td> <td>   16.185</td>\n",
       "</tr>\n",
       "<tr>\n",
       "  <th>sex</th>        <td>   -1.2515</td> <td>    0.392</td> <td>   -3.194</td> <td> 0.002</td> <td>   -2.022</td> <td>   -0.481</td>\n",
       "</tr>\n",
       "<tr>\n",
       "  <th>age</th>        <td>   -0.0875</td> <td>    0.148</td> <td>   -0.592</td> <td> 0.554</td> <td>   -0.378</td> <td>    0.203</td>\n",
       "</tr>\n",
       "<tr>\n",
       "  <th>address</th>    <td>    0.7864</td> <td>    0.435</td> <td>    1.809</td> <td> 0.071</td> <td>   -0.068</td> <td>    1.641</td>\n",
       "</tr>\n",
       "<tr>\n",
       "  <th>famsize</th>    <td>   -0.6951</td> <td>    0.393</td> <td>   -1.769</td> <td> 0.078</td> <td>   -1.468</td> <td>    0.078</td>\n",
       "</tr>\n",
       "<tr>\n",
       "  <th>Pstatus</th>    <td>   -0.1633</td> <td>    0.589</td> <td>   -0.277</td> <td> 0.782</td> <td>   -1.321</td> <td>    0.995</td>\n",
       "</tr>\n",
       "<tr>\n",
       "  <th>Medu</th>       <td>    1.1525</td> <td>    0.433</td> <td>    2.660</td> <td> 0.008</td> <td>    0.301</td> <td>    2.004</td>\n",
       "</tr>\n",
       "<tr>\n",
       "  <th>Fedu</th>       <td>    0.6708</td> <td>    0.470</td> <td>    1.428</td> <td> 0.154</td> <td>   -0.253</td> <td>    1.594</td>\n",
       "</tr>\n",
       "<tr>\n",
       "  <th>studytime</th>  <td>    0.7422</td> <td>    0.226</td> <td>    3.280</td> <td> 0.001</td> <td>    0.297</td> <td>    1.187</td>\n",
       "</tr>\n",
       "<tr>\n",
       "  <th>activities</th> <td>   -0.1387</td> <td>    0.362</td> <td>   -0.384</td> <td> 0.702</td> <td>   -0.850</td> <td>    0.572</td>\n",
       "</tr>\n",
       "<tr>\n",
       "  <th>higher</th>     <td>    2.2665</td> <td>    0.842</td> <td>    2.693</td> <td> 0.007</td> <td>    0.611</td> <td>    3.922</td>\n",
       "</tr>\n",
       "<tr>\n",
       "  <th>romantic</th>   <td>   -0.7070</td> <td>    0.381</td> <td>   -1.854</td> <td> 0.065</td> <td>   -1.457</td> <td>    0.043</td>\n",
       "</tr>\n",
       "<tr>\n",
       "  <th>goout</th>      <td>   -0.5418</td> <td>    0.176</td> <td>   -3.083</td> <td> 0.002</td> <td>   -0.887</td> <td>   -0.196</td>\n",
       "</tr>\n",
       "<tr>\n",
       "  <th>Dalc</th>       <td>   -0.2545</td> <td>    0.261</td> <td>   -0.975</td> <td> 0.330</td> <td>   -0.768</td> <td>    0.259</td>\n",
       "</tr>\n",
       "<tr>\n",
       "  <th>Walc</th>       <td>    0.0935</td> <td>    0.195</td> <td>    0.480</td> <td> 0.632</td> <td>   -0.290</td> <td>    0.477</td>\n",
       "</tr>\n",
       "<tr>\n",
       "  <th>absences</th>   <td>    0.0233</td> <td>    0.023</td> <td>    1.023</td> <td> 0.307</td> <td>   -0.021</td> <td>    0.068</td>\n",
       "</tr>\n",
       "</table>\n",
       "<table class=\"simpletable\">\n",
       "<tr>\n",
       "  <th>Omnibus:</th>       <td> 4.093</td> <th>  Durbin-Watson:     </th> <td>   2.099</td>\n",
       "</tr>\n",
       "<tr>\n",
       "  <th>Prob(Omnibus):</th> <td> 0.129</td> <th>  Jarque-Bera (JB):  </th> <td>   3.401</td>\n",
       "</tr>\n",
       "<tr>\n",
       "  <th>Skew:</th>          <td>-0.130</td> <th>  Prob(JB):          </th> <td>   0.183</td>\n",
       "</tr>\n",
       "<tr>\n",
       "  <th>Kurtosis:</th>      <td> 2.627</td> <th>  Cond. No.          </th> <td>    306.</td>\n",
       "</tr>\n",
       "</table><br/><br/>Warnings:<br/>[1] Standard Errors assume that the covariance matrix of the errors is correctly specified."
      ],
      "text/plain": [
       "<class 'statsmodels.iolib.summary.Summary'>\n",
       "\"\"\"\n",
       "                            OLS Regression Results                            \n",
       "==============================================================================\n",
       "Dep. Variable:                  Grade   R-squared:                       0.165\n",
       "Model:                            OLS   Adj. R-squared:                  0.132\n",
       "Method:                 Least Squares   F-statistic:                     5.002\n",
       "Date:                Sat, 21 Nov 2020   Prob (F-statistic):           5.24e-09\n",
       "Time:                        18:20:26   Log-Likelihood:                -1040.8\n",
       "No. Observations:                 395   AIC:                             2114.\n",
       "Df Residuals:                     379   BIC:                             2177.\n",
       "Df Model:                          15                                         \n",
       "Covariance Type:            nonrobust                                         \n",
       "==============================================================================\n",
       "                 coef    std err          t      P>|t|      [0.025      0.975]\n",
       "------------------------------------------------------------------------------\n",
       "const         10.6416      2.819      3.775      0.000       5.099      16.185\n",
       "sex           -1.2515      0.392     -3.194      0.002      -2.022      -0.481\n",
       "age           -0.0875      0.148     -0.592      0.554      -0.378       0.203\n",
       "address        0.7864      0.435      1.809      0.071      -0.068       1.641\n",
       "famsize       -0.6951      0.393     -1.769      0.078      -1.468       0.078\n",
       "Pstatus       -0.1633      0.589     -0.277      0.782      -1.321       0.995\n",
       "Medu           1.1525      0.433      2.660      0.008       0.301       2.004\n",
       "Fedu           0.6708      0.470      1.428      0.154      -0.253       1.594\n",
       "studytime      0.7422      0.226      3.280      0.001       0.297       1.187\n",
       "activities    -0.1387      0.362     -0.384      0.702      -0.850       0.572\n",
       "higher         2.2665      0.842      2.693      0.007       0.611       3.922\n",
       "romantic      -0.7070      0.381     -1.854      0.065      -1.457       0.043\n",
       "goout         -0.5418      0.176     -3.083      0.002      -0.887      -0.196\n",
       "Dalc          -0.2545      0.261     -0.975      0.330      -0.768       0.259\n",
       "Walc           0.0935      0.195      0.480      0.632      -0.290       0.477\n",
       "absences       0.0233      0.023      1.023      0.307      -0.021       0.068\n",
       "==============================================================================\n",
       "Omnibus:                        4.093   Durbin-Watson:                   2.099\n",
       "Prob(Omnibus):                  0.129   Jarque-Bera (JB):                3.401\n",
       "Skew:                          -0.130   Prob(JB):                        0.183\n",
       "Kurtosis:                       2.627   Cond. No.                         306.\n",
       "==============================================================================\n",
       "\n",
       "Warnings:\n",
       "[1] Standard Errors assume that the covariance matrix of the errors is correctly specified.\n",
       "\"\"\""
      ]
     },
     "execution_count": 14,
     "metadata": {},
     "output_type": "execute_result"
    }
   ],
   "source": [
    "import model as md \n",
    "md.modellinear(df)"
   ]
  },
  {
   "cell_type": "markdown",
   "metadata": {},
   "source": [
    "On estime le modèle suivant par OLS (Ordinary Least Squares) :\n",
    "   \n",
    "   Grade = β0 + β1 Sex + β2 Age + β3 Address + β4 Famsize + β5 Pstatus + β6 Medu + β7 Fedu +\n",
    "            β8 Studytime + β9 Activities + β10 Higher + β11 Romantic + β12 Goout + β13 Dalc + \n",
    "            β14 Walc + β15 Absences + ε\n",
    "\n",
    "Les hypothèses nécéssaires à l'analyse du modèle sont vérifiées. Ces hypothèses sont les suivantes: les résidus doivent suivre une loi normale d'espérance nulle et de variance constante. \n",
    "\n",
    "Ce qui nous permet de conclure à la normalité des résidus est le test de Jarque-Bera. On teste H0 \"les résidus suivent une loi normale\" contre H1 \"on ne connait pas la loi des résidus\". La p-value de Jarque et Bera étant supérieure à 0.05, on ne rejette pas H0 au seuil asymptotique 5%. Les résidus sont donc normaux. Par extension, la Skweness est proche de 0 et le Kurtosis proche de 3. Ce qui confirme notre hypothèse de normalité des résidus. \n",
    "\n",
    "Ensuite, nous testons l'absence d'auto-corrélation des résidus. On teste H0 \"les résidus sont bruits blancs\" contre H1 \"Les résidus sont AR(1) et présentent de l'auto-corrélation\". Quand les résidus sont AR(1) cela signifie que le résidu à l'instant présent dépend du résidu de la période précédente. La statistique de Durbin-Watson est d'environ 2. Lorsque la statistique est proche de 2 en asymptotique, on ne rejette pas H0 au seuil asymptotique 0.05. Ce qui signifie que nos résidus ne sont pas auto-corrélés. \n",
    "\n",
    "On peut donc passer à l'analyse du modèle. Le R^2 du modèle est de 16%. Ainsi, le modèle explique 16% de la variance des notes. On peut donc conclure que notre modèle n'est pas correctement spécifié. On analyse aussi la significativité globale des paramètres grâce à la p-value de Fisher. On teste H0 \"le modèle est non significtaif\" contre H1 \"Le modèle est globalement significatif\". La p-value de Fisher étant de 5.24x10^-9 (inférieur à 0.05) alors on rejette H0 au seuil asymptotique 5%. Ce qui signifie que notre modèle est globalement significatif. Enfin, on test la significativité individuelle des coefficients grâce au test de Student. On teste H0 \"Le paramètre est non significtaif\" contre H1 \"Le paramètre est significatif\". Les paramètres ayant une p-value inférieure à 0.05 sont significatifs. On a alors les coefficients associés à \"sex\", \"Medu\", \"studytime\", \"goout\" et \"higher\" qui sont significatifs. Nous pouvons également noter que les paramètres \"address\" et \"romantic\" sont presque significatifs. \n",
    "\n",
    "Lorsque nous avons analysé le cadre social des élèves dans la partie 2. Nous nous sommes apperçus que ce qui influence le plus les notes est \"Medu\" et \"Fedu\". Le modèle confirme cette analyse pour \"Medu\" car le paramètre associé à \"Medu\" est très significatif. Ainsi, le fait que la mère du lycéen ait fait des études supérieures engendrera toutes choses égales par ailleurs une augmentation de 1.15 points de sa moyenne. Egalement, on constate que \"address\" avait une corrélation faible avec \"Grade\". Dans ce modèle, le paramètre associé à \"address\" est presque significatif. On peut donc dire que le fait d'habiter dans une zone urbaine influence positivement les notes. \n",
    "\n",
    "En ce qui concerne l'analyse du cadre relationnel des élèves, précédemment nous avons constaté que \"Grade\" était corrélée à \"higher\", \"goout\",\"studytime\" et \"romantic\". On retrouve ces résultats au sein du modèle : \"studytime\" a un impact positif sur les notes moyennes, \"goout\" et \"romantic\" ont un impact négatif sur les notes moyennes. Ce qui signifie qu'une augmentation d'une heure de temps de travail augmenterait les notes moyennes de 0.74. En revanche, sortir et être en couple impact négativement les notes moyennes."
   ]
  },
  {
   "cell_type": "markdown",
   "metadata": {},
   "source": [
    "### Conclusion "
   ]
  },
  {
   "cell_type": "markdown",
   "metadata": {},
   "source": [
    "L’ambition de ce projet était d’analyser les facteurs de réussite scolaire des lycéens en filière mathématique de deux écoles portugaises. Pour ce faire, nous avons étudié des variables liées au cadre social ainsi qu’aux relations sociales des élèves. \n",
    "Nous avons premièrement réalisé un nettoyage de la base de données dont nous disposions afin d’enlever les variables qui ne permettaient pas de répondre à notre problématique et de transformer celles ayant des modalités de réponses non exploitables lors d’une régression linéaire. \n",
    "Nous avons par la suite procédé à une analyse des statistiques descriptives. Cela nous a permis de caractériser la population étudiée (notamment grâce aux variables qualitatives) et d’observer les distributions, notamment la présence ou non d’outliers. L’étude des corrélations entre les variables nous a également permis de distinguer les variables ayant le plus d’impact sur les notes obtenues par les lycéens. Cette statistique descriptive nous a permis d’émettre des hypothèses sur l’impact des variables considérées sur les notes. \n",
    "Enfin, ces hypothèses ont pu être testées grâce à une régression linéaire multiple. Nous avons cherché à expliquer les notes obtenues par les variables relatives au cadre et relations socials. Ceci nous a permis de conclure que les variables influençant le plus la réussite étaient celles correspondant au niveau d’éducation des parents. Également, le fait de voir souvent ses amis et d’être en relation de couple a une influence négative sur les notes des individus. \n",
    "\n",
    "Plusieurs points sont ressortis de notre analyse. Premièrement, des variables telles que le fait de consommer de l’alcool en semaine comme en week-end n’a pas d’impact sur la réussite scolaire. Par ailleurs les variables comme celle relative aux absences ou celle liée aux activités extra-scolaires n’ont pas d’impact sur la réussite scolaire. Ainsi, le cadre relationnel influence les notes des individus (plus l’individu a une vie sociale active, moins il a de temps pour travailler) mais l’impact n’est pas aussi important qu’on aurait pu le penser. Par ailleurs au niveau du cadre social des élèves, la variable qui impacte le plus la réussite scolaire est celle relative au niveau d’éducation des parents. On retrouve donc l’hypothèse de désir d’ascension sociale, ce qui rejoint également le fait que les parents n’aient, à deux tiers, pas fait d’études supérieures et que les élèves veuillent pour la très grande majorité en faire. \n",
    "\n",
    "Afin d’étudier plus en détail ce pan de la littérature socio-économique, il serait évidemment pertinent d’étendre cette analyse. En effet, l’ajout de variables explicatives comme le fait d’être en lycée privé ou non, pourraient permettre d’avoir une vue plus globale du profil de chaque individus. Il serait aussi intéressant d’étendre l’analyse à d’autres pays. L’ajout de pays moins développés et plus développés que le Portugal permettrait une étude non seulement des facteurs de réussite scolaire mais également des différences entre pays en fonction du niveau de développement. Les structures du marché du travail différant d’un pays à un autre, les élèves de certains pays auront donc une propension plus importante à vouloir faire des études supérieures que d’autres."
   ]
  }
 ],
 "metadata": {
  "kernelspec": {
   "display_name": "Python 3 (ipykernel)",
   "language": "python",
   "name": "python3"
  },
  "language_info": {
   "codemirror_mode": {
    "name": "ipython",
    "version": 3
   },
   "file_extension": ".py",
   "mimetype": "text/x-python",
   "name": "python",
   "nbconvert_exporter": "python",
   "pygments_lexer": "ipython3",
   "version": "3.9.7"
  }
 },
 "nbformat": 4,
 "nbformat_minor": 4
}
